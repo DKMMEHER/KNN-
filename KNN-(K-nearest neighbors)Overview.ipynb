{
 "cells": [
  {
   "cell_type": "markdown",
   "metadata": {},
   "source": [
    "# KNN-(K-nearest neighbors)\n",
    "KNN based on feature similarity, we can do classification using KNN classifier, KNN is of the simplest\n",
    "Supervised Machine Learning algorithm used for.\n",
    "it is follow Euclidean formula.\n",
    "\n",
    "The principle behind nearest neighbor methods is to find a predifined number of training \n",
    "closest i distance to the new point, and predict the label from these.\n",
    "\n",
    "It has one of the simple learning strategies: given a new, unknown observation, look up in your reference database which ones have the closest features and assign the predominant class.\n",
    "\n",
    "The distance can, in general, be any metric measure: standard Euclidean distance is the most common choice.\n"
   ]
  },
  {
   "cell_type": "markdown",
   "metadata": {},
   "source": [
    "<img src='knn_steps.png'/>"
   ]
  },
  {
   "cell_type": "markdown",
   "metadata": {},
   "source": [
    "# Euclidean DIstance Formula"
   ]
  },
  {
   "cell_type": "markdown",
   "metadata": {},
   "source": [
    "<img src='Euclidean DIstance Formula.jpg'/>"
   ]
  },
  {
   "cell_type": "markdown",
   "metadata": {},
   "source": [
    "<img src='KNN1.jpg'/>"
   ]
  },
  {
   "cell_type": "markdown",
   "metadata": {},
   "source": [
    "<img src='KNN2.jpg'/>"
   ]
  },
  {
   "cell_type": "markdown",
   "metadata": {},
   "source": [
    "<img src='knn2.jpg'/>"
   ]
  },
  {
   "cell_type": "raw",
   "metadata": {},
   "source": [
    "K-NN is a supervised classifier that memorizes obsrvation from within a labeled test set to\n",
    "predict classification labels for new, unlabeled observaton."
   ]
  },
  {
   "cell_type": "raw",
   "metadata": {},
   "source": [
    "K-NN makes prediction based on how similar training observations are to the new, incoming observations."
   ]
  },
  {
   "cell_type": "raw",
   "metadata": {},
   "source": [
    "The more similar the observation's values, the more likely they will be classified with the same label"
   ]
  },
  {
   "cell_type": "markdown",
   "metadata": {},
   "source": [
    "# K-NN use Cases"
   ]
  },
  {
   "cell_type": "raw",
   "metadata": {},
   "source": [
    "Stock Price Prediction\n",
    "Recommendation systems\n",
    "Credit risk analysis\n",
    "Predictive trip analysis"
   ]
  },
  {
   "cell_type": "markdown",
   "metadata": {},
   "source": [
    "# K-NN Model Assumptions"
   ]
  },
  {
   "cell_type": "raw",
   "metadata": {},
   "source": [
    "Dataset has little noise\n",
    "Dataset is labeled\n",
    "Dataset only contains relevant features\n",
    "Avoid using K-NN on large datasets, It will probably take a longtime."
   ]
  },
  {
   "cell_type": "code",
   "execution_count": null,
   "metadata": {},
   "outputs": [],
   "source": []
  }
 ],
 "metadata": {
  "kernelspec": {
   "display_name": "Python 3",
   "language": "python",
   "name": "python3"
  },
  "language_info": {
   "codemirror_mode": {
    "name": "ipython",
    "version": 3
   },
   "file_extension": ".py",
   "mimetype": "text/x-python",
   "name": "python",
   "nbconvert_exporter": "python",
   "pygments_lexer": "ipython3",
   "version": "3.7.6"
  }
 },
 "nbformat": 4,
 "nbformat_minor": 4
}
